{
  "cells": [
    {
      "cell_type": "markdown",
      "metadata": {},
      "source": [
        "In the following example, a neural network will be used to model the dynamic response of a process described by the following ODE:\n",
        "\n",
        "d^2 y(t)/dt^2  + dy(t)/dt + y(t) = x(t)\n",
        "\n",
        "The transfer function of this process is:\n",
        "G(s) = 1/s^2 + s + 1  \n",
        "\n",
        "We have the dynamic response to a step input represented by a figure. The goal of the problem is to obtain a neural network that can predict the dynamic response of this process. The first step in this case is to define the inputs and outputs of the network. In this case, the ODE of equation 1 can be represented by a difference equation, where:\n",
        "\n",
        "\n",
        "dy/dt is approximately = (y(k)-y(k-1))/t \n",
        "and \n",
        "d^2y/dt^2 is approximately = (y(k) - 2y(k-1) + y(k-2))/t^2\n",
        "\n",
        "\n",
        "y(k) = ((2+T)*y(k-1) - y(k-2) + t^2*x(k))/(1+T+T^2)\n",
        "\n",
        "\n",
        "where k represents the discretization time and T is the time interval used in the discretization to approximate the derivative by a difference equation. Thus, the inputs of the network are illustrated in figure 2.\n",
        "\n",
        "The general procedure for adjusting the network parameters can be described as follows:"
      ]
    },
    {
      "cell_type": "markdown",
      "metadata": {},
      "source": [
        "- selection of a set of input variables;\n",
        "- choice of architecture (number of neurons in the hidden layer, activation function, etc.);\n",
        "- network training;\n",
        "- if performance is not satisfactory, then new parameters or input data should be chosen, else \"end\"."
      ]
    },
    {
      "cell_type": "markdown",
      "metadata": {},
      "source": [
        "The next step is to obtain the training dataset. In this problem, to obtain a dynamic model of the process, the input variable x(k) must be perturbed with various step inputs of different amplitudes and durations. This richness facilitates the learning of the network.\n",
        "\n",
        "The chosen network has 3 layers and was trained in Python. Here we have the result of the trained and tested network.\n",
        "\n"
      ]
    },
    {
      "cell_type": "code",
      "execution_count": null,
      "metadata": {},
      "outputs": [],
      "source": [
        "import numpy as np\n",
        "from sklearn.neural_network import MLPRegressor\n",
        "from numpy import array\n",
        "from sklearn.model_selection import train_test_split\n",
        "import matplotlib.pyplot as plt"
      ]
    },
    {
      "cell_type": "code",
      "execution_count": null,
      "metadata": {
        "colab": {},
        "colab_type": "code",
        "id": "dgUIvavQp9FZ"
      },
      "outputs": [],
      "source": [
        "# Discretized model\n",
        "def modelo_discretizado(u, T):\n",
        "  \n",
        "  i,j = u.shape\n",
        "  h = np.zeros((1,j))\n",
        "\n",
        "  for k in range(2,j):\n",
        "    h[0,k] = ((2+T)*h[0,k-1] - h[0,k-2] + T*T*u[0,k-2])/(1 + T + T*T)\n",
        "\n",
        "  return h"
      ]
    },
    {
      "cell_type": "code",
      "execution_count": null,
      "metadata": {
        "colab": {},
        "colab_type": "code",
        "id": "XFX6Pwt2rdWv"
      },
      "outputs": [],
      "source": [
        "# Generate input matrix.\n",
        "def gera_matriz_entrada(h,u):\n",
        "\n",
        "  i,j = h.shape\n",
        "\n",
        "  X = np.zeros((j,3))\n",
        "  Y = np.zeros((j))\n",
        "  for k in range(2,j):\n",
        "    X[k-2,:] = np.array((h[0,k-1],h[0,k-2],u[0,k-2]))\n",
        "    Y[k-2] = np.array(h[0,k])\n",
        "\n",
        "  return X, Y"
      ]
    },
    {
      "cell_type": "markdown",
      "metadata": {
        "colab_type": "text",
        "id": "_m_5hLK-wBSy"
      },
      "source": [
        "## Training"
      ]
    },
    {
      "cell_type": "code",
      "execution_count": null,
      "metadata": {
        "colab": {},
        "colab_type": "code",
        "id": "e6YmknGy1TgV"
      },
      "outputs": [],
      "source": [
        "ndados = 100\n",
        "T = 1\n",
        "\n",
        "# Treinamento\n",
        "# Entrada\n",
        "u = np.concatenate([3*np.ones((1,ndados)), np.ones((1,ndados)), 2*np.ones((1,ndados)), \n",
        "           0.5*np.ones((1,ndados)), 0.25*np.ones((1,ndados)), 1.25*np.ones((1,ndados)), \n",
        "           0.75*np.ones((1,ndados))],axis=1)\n",
        "\n",
        "h = modelo_discretizado(u, T)"
      ]
    },
    {
      "cell_type": "code",
      "execution_count": 405,
      "metadata": {
        "colab": {
          "base_uri": "https://localhost:8080/",
          "height": 36
        },
        "colab_type": "code",
        "id": "-6tXXdQ8LCLq",
        "outputId": "eb03fdcc-af6f-4033-f793-f0da296d36ef"
      },
      "outputs": [
        {
          "data": {
            "text/plain": [
              "0.9980444517030812"
            ]
          },
          "execution_count": 405,
          "metadata": {
            "tags": []
          },
          "output_type": "execute_result"
        }
      ],
      "source": [
        "# Entry data in neuron\n",
        "\n",
        "X, Y = gera_matriz_entrada(h,u)\n",
        "\n",
        "Xtrain, Xval, Ytrain, Yval = train_test_split(X, Y, random_state=1, test_size=0.1)\n",
        "\n",
        "# Feedforward Neural Network\n",
        "regr = MLPRegressor(max_iter=500,activation='tanh',hidden_layer_sizes=(10,),\n",
        "                    solver='sgd',learning_rate_init=0.01,).fit(Xtrain, Ytrain)\n",
        "regr.score(Xval,Yval)"
      ]
    },
    {
      "cell_type": "markdown",
      "metadata": {
        "colab_type": "text",
        "id": "gC2MG94CwE9Q"
      },
      "source": [
        "## Test"
      ]
    },
    {
      "cell_type": "code",
      "execution_count": 417,
      "metadata": {
        "colab": {
          "base_uri": "https://localhost:8080/",
          "height": 36
        },
        "colab_type": "code",
        "id": "CG_87FI4Z68j",
        "outputId": "6997ba76-dcc4-445c-df9a-3d729ba9e595"
      },
      "outputs": [
        {
          "data": {
            "text/plain": [
              "0.9332543877618112"
            ]
          },
          "execution_count": 417,
          "metadata": {
            "tags": []
          },
          "output_type": "execute_result"
        }
      ],
      "source": [
        "\n",
        "ut = np.array(0.35*np.ones((1,ndados)))\n",
        "\n",
        "h = modelo_discretizado(ut,T)\n",
        "\n",
        "Xtest, Ytest = gera_matriz_entrada(h,ut)\n",
        "\n",
        "Yhat = regr.predict(Xtest)\n",
        "regr.score(Xtest,Ytest)"
      ]
    },
    {
      "cell_type": "code",
      "execution_count": 418,
      "metadata": {
        "colab": {
          "base_uri": "https://localhost:8080/",
          "height": 265
        },
        "colab_type": "code",
        "id": "rahDyKomeYl3",
        "outputId": "dfc35606-703d-4c6a-9be2-0a72e2e7969f"
      },
      "outputs": [
        {
          "data": {
            "image/png": "[encoded data removed]",
            "text/plain": [
              "<Figure size 432x288 with 1 Axes>"
            ]
          },
          "metadata": {
            "needs_background": "light",
            "tags": []
          },
          "output_type": "display_data"
        }
      ],
      "source": [
        "# Plot graphics\n",
        "plt.plot(Ytest[:-2],label='Real')\n",
        "plt.legend()\n",
        "plt.plot(Yhat[:-2],label='Predito')\n",
        "plt.legend()\n",
        "plt.show()\n"
      ]
    }
  ],
  "metadata": {
    "colab": {
      "name": "controle_inteligente.ipynb",
      "provenance": []
    },
    "kernelspec": {
      "display_name": "Python 3",
      "name": "python3"
    }
  },
  "nbformat": 4,
  "nbformat_minor": 0
}
